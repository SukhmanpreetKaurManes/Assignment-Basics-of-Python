{
  "nbformat": 4,
  "nbformat_minor": 0,
  "metadata": {
    "colab": {
      "provenance": [],
      "authorship_tag": "ABX9TyNgPv9jy5KoZ/L62PjpOdtG",
      "include_colab_link": true
    },
    "kernelspec": {
      "name": "python3",
      "display_name": "Python 3"
    },
    "language_info": {
      "name": "python"
    }
  },
  "cells": [
    {
      "cell_type": "markdown",
      "metadata": {
        "id": "view-in-github",
        "colab_type": "text"
      },
      "source": [
        "<a href=\"https://colab.research.google.com/github/SukhmanpreetKaurManes/Assignment-Basics-of-Python/blob/main/Assignment1.ipynb\" target=\"_parent\"><img src=\"https://colab.research.google.com/assets/colab-badge.svg\" alt=\"Open In Colab\"/></a>"
      ]
    },
    {
      "cell_type": "markdown",
      "source": [
        "**Assignment 1**"
      ],
      "metadata": {
        "id": "jVIBAahNYP4E"
      }
    },
    {
      "cell_type": "markdown",
      "source": [
        "**Q1** L=[11,12,13,14]\n",
        "\n",
        "i. Add 50 and 60 to L"
      ],
      "metadata": {
        "id": "fMSkYM3MMVGE"
      }
    },
    {
      "cell_type": "code",
      "source": [
        "#1\n",
        "L=[11,12,13,14]\n",
        "L.append(50)\n",
        "L.append(60)\n",
        "print(L)"
      ],
      "metadata": {
        "colab": {
          "base_uri": "https://localhost:8080/"
        },
        "id": "RF-exb66TweF",
        "outputId": "e6c1d292-6fd1-4a51-9c3d-bc03368c2f6b"
      },
      "execution_count": null,
      "outputs": [
        {
          "output_type": "stream",
          "name": "stdout",
          "text": [
            "[11, 12, 13, 14, 50, 60]\n"
          ]
        }
      ]
    },
    {
      "cell_type": "markdown",
      "source": [
        "ii. Remove 11 and 13 from L"
      ],
      "metadata": {
        "id": "2uLpTwtSNQOD"
      }
    },
    {
      "cell_type": "code",
      "source": [
        "L.remove(13)\n",
        "L.remove(11)\n",
        "print(L)"
      ],
      "metadata": {
        "colab": {
          "base_uri": "https://localhost:8080/"
        },
        "id": "G46a7qXST8cb",
        "outputId": "db5e46e0-4f6f-4a66-e81c-7d6a8ab6636a"
      },
      "execution_count": null,
      "outputs": [
        {
          "output_type": "stream",
          "name": "stdout",
          "text": [
            "[12, 14, 50, 60]\n"
          ]
        }
      ]
    },
    {
      "cell_type": "markdown",
      "source": [
        "iii. Sort L in ascending order"
      ],
      "metadata": {
        "id": "0d6zNZWVNgjt"
      }
    },
    {
      "cell_type": "code",
      "source": [
        "L.sort()\n",
        "L"
      ],
      "metadata": {
        "colab": {
          "base_uri": "https://localhost:8080/"
        },
        "id": "sUm8k98EUIJ2",
        "outputId": "cd565029-ac05-4f0f-de2b-31dbc4ee65e2"
      },
      "execution_count": null,
      "outputs": [
        {
          "output_type": "execute_result",
          "data": {
            "text/plain": [
              "[12, 14, 50, 60]"
            ]
          },
          "metadata": {},
          "execution_count": 16
        }
      ]
    },
    {
      "cell_type": "markdown",
      "source": [
        "iv. Sort L in descending order"
      ],
      "metadata": {
        "id": "17N-WloxNvF2"
      }
    },
    {
      "cell_type": "code",
      "source": [
        "L.sort(reverse=True)\n",
        "L"
      ],
      "metadata": {
        "colab": {
          "base_uri": "https://localhost:8080/"
        },
        "id": "0NS2peFBUWvo",
        "outputId": "aada5dee-5e28-45a2-c0fe-628353de9bfa"
      },
      "execution_count": null,
      "outputs": [
        {
          "output_type": "execute_result",
          "data": {
            "text/plain": [
              "[60, 50, 14, 12]"
            ]
          },
          "metadata": {},
          "execution_count": 17
        }
      ]
    },
    {
      "cell_type": "markdown",
      "source": [
        "v. Search for 13 in L"
      ],
      "metadata": {
        "id": "8Q0vGHf1NzNf"
      }
    },
    {
      "cell_type": "code",
      "source": [
        "print(\"Is 13 present in list --> \",13 in L)"
      ],
      "metadata": {
        "colab": {
          "base_uri": "https://localhost:8080/"
        },
        "id": "EpGPX-6aUyO5",
        "outputId": "56a55330-86c5-424a-c612-2e12154ff400"
      },
      "execution_count": null,
      "outputs": [
        {
          "output_type": "stream",
          "name": "stdout",
          "text": [
            "Is 13 present in list -->  False\n"
          ]
        }
      ]
    },
    {
      "cell_type": "markdown",
      "source": [
        "vi. Count number of elements in L"
      ],
      "metadata": {
        "id": "OnesH5zYN5ae"
      }
    },
    {
      "cell_type": "code",
      "source": [
        "print(\"Number of elements in List --.\",len(L))\n"
      ],
      "metadata": {
        "colab": {
          "base_uri": "https://localhost:8080/"
        },
        "id": "psdGGdn1V3aL",
        "outputId": "7b831591-9883-456c-b49e-2efff8f7ae50"
      },
      "execution_count": null,
      "outputs": [
        {
          "output_type": "stream",
          "name": "stdout",
          "text": [
            "Number of elements in List --. 4\n"
          ]
        }
      ]
    },
    {
      "cell_type": "markdown",
      "source": [
        "vii. Sum all elements of List"
      ],
      "metadata": {
        "id": "JJgXQB6bOETX"
      }
    },
    {
      "cell_type": "code",
      "source": [
        "print(\"Sum of elements --> \",sum(L))"
      ],
      "metadata": {
        "colab": {
          "base_uri": "https://localhost:8080/"
        },
        "id": "UvyiLOhmV5oF",
        "outputId": "c199d5f9-6117-4863-e94a-a353adc29466"
      },
      "execution_count": null,
      "outputs": [
        {
          "output_type": "stream",
          "name": "stdout",
          "text": [
            "Sum of elements -->  136\n"
          ]
        }
      ]
    },
    {
      "cell_type": "markdown",
      "source": [
        "viii and ix.  Sum all odd and even  numbers in L"
      ],
      "metadata": {
        "id": "e07AdpGZOJCE"
      }
    },
    {
      "cell_type": "code",
      "source": [
        "s1=0\n",
        "s2=0\n",
        "for i in L:\n",
        "  if i%2!=0:\n",
        "    s1+=i\n",
        "  else:\n",
        "    s2+=i\n",
        "print(\"Sum of odd numbers --> \",s1)\n",
        "print(\"Sum of even numbers --> \",s2)\n"
      ],
      "metadata": {
        "colab": {
          "base_uri": "https://localhost:8080/"
        },
        "id": "8Tf2iewOWGKc",
        "outputId": "b1dd39db-6bac-4438-95de-486d583838a9"
      },
      "execution_count": null,
      "outputs": [
        {
          "output_type": "stream",
          "name": "stdout",
          "text": [
            "Sum of odd numbers -->  0\n",
            "Sum of even numbers -->  136\n"
          ]
        }
      ]
    },
    {
      "cell_type": "markdown",
      "source": [
        "x. Sum all prime numbers in L"
      ],
      "metadata": {
        "id": "Le_W-JzPOcNn"
      }
    },
    {
      "cell_type": "code",
      "source": [
        "s3=0\n",
        "def is_prime(n):\n",
        "  for i in range(2,n//2+1):\n",
        "    if n%i==0:\n",
        "      return False\n",
        "  return True\n",
        "for i in L:\n",
        "  if is_prime(i):\n",
        "    s3+=i\n",
        "\n",
        "print(\"Sum of all prime numbers --> \",s3)\n",
        "\n"
      ],
      "metadata": {
        "colab": {
          "base_uri": "https://localhost:8080/"
        },
        "id": "JkHjUIPnWbT9",
        "outputId": "e571e093-27a2-47aa-eb7b-5cb012a93959"
      },
      "execution_count": null,
      "outputs": [
        {
          "output_type": "stream",
          "name": "stdout",
          "text": [
            "Sum of all prime numbers -->  0\n"
          ]
        }
      ]
    },
    {
      "cell_type": "markdown",
      "source": [
        "xi. Clear all elements in L"
      ],
      "metadata": {
        "id": "WBfYcyh7Oj0j"
      }
    },
    {
      "cell_type": "code",
      "source": [
        "L.clear()"
      ],
      "metadata": {
        "id": "iTlUfcVxX0y2"
      },
      "execution_count": null,
      "outputs": []
    },
    {
      "cell_type": "markdown",
      "source": [
        "xii. Delete L"
      ],
      "metadata": {
        "id": "BgL0hqxcOncl"
      }
    },
    {
      "cell_type": "code",
      "source": [
        "del L"
      ],
      "metadata": {
        "id": "x-FM90o2X6xl"
      },
      "execution_count": null,
      "outputs": []
    },
    {
      "cell_type": "markdown",
      "source": [
        "**Q2**. D={1:5.6,2:7.8,3:6.6,4:8.7,5:7.7}\n",
        "\n",
        "i. Add new entry in D ;key=8 and value is 8.8"
      ],
      "metadata": {
        "id": "7-lH5UaQqR2m"
      }
    },
    {
      "cell_type": "code",
      "execution_count": null,
      "metadata": {
        "id": "YJIKw2t8XN3q",
        "colab": {
          "base_uri": "https://localhost:8080/"
        },
        "outputId": "4f916df9-f95c-49fa-9b6f-a1a7eb2d8a3a"
      },
      "outputs": [
        {
          "output_type": "stream",
          "name": "stdout",
          "text": [
            "{1: 5.6, 2: 7.8, 3: 6.6, 4: 8.7, 5: 7.7, 8: 8.8}\n"
          ]
        }
      ],
      "source": [
        "#2\n",
        "D={1:5.6,2:7.8,3:6.6,4:8.7,5:7.7}\n",
        "D[8]=8.8\n",
        "print(D)"
      ]
    },
    {
      "cell_type": "markdown",
      "source": [
        "ii. Remove key =2"
      ],
      "metadata": {
        "id": "r132E66DQHWV"
      }
    },
    {
      "cell_type": "code",
      "source": [
        "del D[2]\n",
        "print(D)"
      ],
      "metadata": {
        "colab": {
          "base_uri": "https://localhost:8080/"
        },
        "id": "dcs-Lm76sUtY",
        "outputId": "dc0944a0-9a1c-43b7-b3c4-01abfde56cd8"
      },
      "execution_count": null,
      "outputs": [
        {
          "output_type": "stream",
          "name": "stdout",
          "text": [
            "{1: 5.6, 3: 6.6, 4: 8.7, 5: 7.7, 8: 8.8}\n"
          ]
        }
      ]
    },
    {
      "cell_type": "markdown",
      "source": [
        "iii. Check whether 6 key is present in D"
      ],
      "metadata": {
        "id": "GATkIcz7QM09"
      }
    },
    {
      "cell_type": "code",
      "source": [
        "print(\"Is key 6 present in D --> \",D)"
      ],
      "metadata": {
        "colab": {
          "base_uri": "https://localhost:8080/"
        },
        "id": "juMBuIpktN6y",
        "outputId": "ebf0de89-3ce9-475e-90dd-47f45487ea6c"
      },
      "execution_count": null,
      "outputs": [
        {
          "output_type": "stream",
          "name": "stdout",
          "text": [
            "Is key 6 present in D -->  {1: 5.6, 3: 6.6, 4: 8.7, 5: 7.7, 8: 8.8}\n"
          ]
        }
      ]
    },
    {
      "cell_type": "markdown",
      "source": [
        "iv. Count number of elements in D"
      ],
      "metadata": {
        "id": "R1MG5hNkQVSf"
      }
    },
    {
      "cell_type": "code",
      "source": [
        "print(\"Number of elements --> \",len(D))"
      ],
      "metadata": {
        "colab": {
          "base_uri": "https://localhost:8080/"
        },
        "id": "1bYua1LltgNK",
        "outputId": "b7224115-ef51-4420-d4da-e8c6e455ed87"
      },
      "execution_count": null,
      "outputs": [
        {
          "output_type": "stream",
          "name": "stdout",
          "text": [
            "Number of elements -->  5\n"
          ]
        }
      ]
    },
    {
      "cell_type": "markdown",
      "source": [
        "v. Add all values present in D"
      ],
      "metadata": {
        "id": "0dbQwxV4Q9Df"
      }
    },
    {
      "cell_type": "code",
      "source": [
        "print(\"Sum of values --> \",sum(D.values()))"
      ],
      "metadata": {
        "colab": {
          "base_uri": "https://localhost:8080/"
        },
        "id": "F7t7AJjLuJZh",
        "outputId": "5943c005-3376-4c31-8e5d-1abec86397fd"
      },
      "execution_count": null,
      "outputs": [
        {
          "output_type": "stream",
          "name": "stdout",
          "text": [
            "Sum of values -->  37.4\n"
          ]
        }
      ]
    },
    {
      "cell_type": "markdown",
      "source": [
        "vi. Update value of 3 to 7.1"
      ],
      "metadata": {
        "id": "PkGohG3eRBdr"
      }
    },
    {
      "cell_type": "code",
      "source": [
        "D[3]=7.1\n",
        "print(D)"
      ],
      "metadata": {
        "colab": {
          "base_uri": "https://localhost:8080/"
        },
        "id": "xyZocPNcu3l8",
        "outputId": "3e0d4d47-5e29-4ce0-9d62-5ba6b6bac89b"
      },
      "execution_count": null,
      "outputs": [
        {
          "output_type": "stream",
          "name": "stdout",
          "text": [
            "{1: 5.6, 3: 7.1, 4: 8.7, 5: 7.7, 8: 8.8}\n"
          ]
        }
      ]
    },
    {
      "cell_type": "markdown",
      "source": [
        "vii. Clear the dictionary"
      ],
      "metadata": {
        "id": "k8Bv83F2RKaq"
      }
    },
    {
      "cell_type": "code",
      "source": [
        "D.clear()"
      ],
      "metadata": {
        "id": "NkkwsCJOvBMz"
      },
      "execution_count": null,
      "outputs": []
    },
    {
      "cell_type": "markdown",
      "source": [
        "**Q3**. S1=set([10,20,30,40,50,60])\n",
        "        S2=set([40,50,60,70,80,90])\n",
        "        \n",
        " i. Add 55 and 66 in Set S1       "
      ],
      "metadata": {
        "id": "lQo0KWyDqW5O"
      }
    },
    {
      "cell_type": "code",
      "source": [
        "#3\n",
        "S1=set([10,20,30,40,50,60])\n",
        "S2=set([40,50,60,70,80,90])\n",
        "S1.add(55)\n",
        "S1.add(66)\n",
        "print(\"S1 after adding 55 and 66 --> \", S1)"
      ],
      "metadata": {
        "colab": {
          "base_uri": "https://localhost:8080/"
        },
        "id": "nVDacySjvN52",
        "outputId": "e96efff0-d45e-4d1d-8379-7bec37952058"
      },
      "execution_count": null,
      "outputs": [
        {
          "output_type": "stream",
          "name": "stdout",
          "text": [
            "S1 after adding 55 and 66 -->  {66, 40, 10, 50, 20, 55, 60, 30}\n"
          ]
        }
      ]
    },
    {
      "cell_type": "markdown",
      "source": [
        "ii. Remove 10 and 30 from S1"
      ],
      "metadata": {
        "id": "aOpU-OoKRzBH"
      }
    },
    {
      "cell_type": "code",
      "source": [
        "S1.remove(10)\n",
        "S1.remove(30)\n",
        "print(S1)"
      ],
      "metadata": {
        "colab": {
          "base_uri": "https://localhost:8080/"
        },
        "id": "nzETn1xRzAh6",
        "outputId": "fea4478d-86f1-43f6-ca44-3a0e8a3b83a8"
      },
      "execution_count": null,
      "outputs": [
        {
          "output_type": "stream",
          "name": "stdout",
          "text": [
            "{66, 40, 50, 20, 55, 60}\n"
          ]
        }
      ]
    },
    {
      "cell_type": "markdown",
      "source": [
        "iii. Check whether 40 is present in S1"
      ],
      "metadata": {
        "id": "9gTVZzpPR9pG"
      }
    },
    {
      "cell_type": "code",
      "source": [
        "print(\"Is 40 present in S1 --> \",40 in S1)"
      ],
      "metadata": {
        "colab": {
          "base_uri": "https://localhost:8080/"
        },
        "id": "I_EWiWonzX8r",
        "outputId": "b74b67a6-5b4a-4776-9b06-d9602eb4149b"
      },
      "execution_count": null,
      "outputs": [
        {
          "output_type": "stream",
          "name": "stdout",
          "text": [
            "Is 40 present in S1 -->  True\n"
          ]
        }
      ]
    },
    {
      "cell_type": "markdown",
      "source": [
        "iv.Union between S1 and S2"
      ],
      "metadata": {
        "id": "1XLeMDSiSGg9"
      }
    },
    {
      "cell_type": "code",
      "source": [
        "print(\"Union of S1 and S2 --> \",S1.union(S2))"
      ],
      "metadata": {
        "colab": {
          "base_uri": "https://localhost:8080/"
        },
        "id": "NX-KZl4BzlA2",
        "outputId": "0a521ef0-67a6-4926-9e2f-cf26c0dafdeb"
      },
      "execution_count": null,
      "outputs": [
        {
          "output_type": "stream",
          "name": "stdout",
          "text": [
            "Union of S1 and S2 -->  {66, 70, 40, 80, 50, 20, 55, 90, 60}\n"
          ]
        }
      ]
    },
    {
      "cell_type": "markdown",
      "source": [
        "v.Intersection between S1 and S2"
      ],
      "metadata": {
        "id": "kNqNMj5ESMZn"
      }
    },
    {
      "cell_type": "code",
      "source": [
        "print(\"Intersection of S1 and S2 --> \",S1.intersection(S2))"
      ],
      "metadata": {
        "colab": {
          "base_uri": "https://localhost:8080/"
        },
        "id": "T7u3u1gwz5IZ",
        "outputId": "da8064d9-0a74-44bf-8088-e4fe0c65b79a"
      },
      "execution_count": null,
      "outputs": [
        {
          "output_type": "stream",
          "name": "stdout",
          "text": [
            "Intersection of S1 and S2 -->  {40, 50, 60}\n"
          ]
        }
      ]
    },
    {
      "cell_type": "markdown",
      "source": [
        "vi. Find S1-S2"
      ],
      "metadata": {
        "id": "oKPD9HEdST9j"
      }
    },
    {
      "cell_type": "code",
      "source": [
        "print(\"Difference S1 - S2 -->\",S1)"
      ],
      "metadata": {
        "colab": {
          "base_uri": "https://localhost:8080/"
        },
        "id": "p5LuBIIp0FkJ",
        "outputId": "6747e347-e7d4-4b8d-a6be-318b8c6a045f"
      },
      "execution_count": null,
      "outputs": [
        {
          "output_type": "stream",
          "name": "stdout",
          "text": [
            "Difference S1 - S2 --> {66, 20, 55}\n"
          ]
        }
      ]
    },
    {
      "cell_type": "markdown",
      "source": [
        "**Q4.** i.Print 100 random strings whose length between 6 and 8"
      ],
      "metadata": {
        "id": "AKYv8_ZnqYJL"
      }
    },
    {
      "cell_type": "code",
      "source": [
        "#4\n",
        "import string\n",
        "import random\n",
        "letters=string.ascii_letters + string.digits\n",
        "for i in  range(100) :\n",
        "  length=random.randint(6,8)\n",
        "  s=''.join(random.choice(letters) for j in range(length))\n",
        "  print(s)"
      ],
      "metadata": {
        "colab": {
          "base_uri": "https://localhost:8080/"
        },
        "id": "CoRpsvc552zH",
        "outputId": "b4293679-9a30-4ee8-be21-0fec7d706456"
      },
      "execution_count": null,
      "outputs": [
        {
          "output_type": "stream",
          "name": "stdout",
          "text": [
            "B2dAUtF\n",
            "UFg7GIzz\n",
            "WcM8rv3\n",
            "g7XXMa\n",
            "18qVcX\n",
            "ZDuMfFD\n",
            "JZOsML\n",
            "nyEZfMs\n",
            "XrojzDeX\n",
            "D7e1bNtW\n",
            "ysNmjpp\n",
            "uwdUcTXN\n",
            "mJX7KC\n",
            "wTG4TAA\n",
            "2SLn1ugF\n",
            "SbaPTpb\n",
            "2blhHP\n",
            "d7nG1nL\n",
            "hXjIbKXe\n",
            "XETh1Qj7\n",
            "6YWy59\n",
            "fnO9CBSO\n",
            "LIjOGh5I\n",
            "aBjowQS\n",
            "4JYHgwYa\n",
            "htZ1IK\n",
            "fibhgtb\n",
            "nl2c2BrL\n",
            "4cYScy\n",
            "B1Pkdx4\n",
            "0VpYX1AK\n",
            "gZBbr7\n",
            "P65cjM\n",
            "TQPmTj\n",
            "DyOV8s\n",
            "a5gKlxLI\n",
            "KGrJ2J\n",
            "SD7eLVzM\n",
            "GeBZCFy0\n",
            "99zyF4\n",
            "8d7vCf\n",
            "yDSDGyZR\n",
            "PtVUUo\n",
            "mY6GpO\n",
            "hK0JPv\n",
            "tvijc3BK\n",
            "W4nsbY\n",
            "asmAgMUT\n",
            "pY12Iz7Y\n",
            "tr76O4M\n",
            "j1D4AbW\n",
            "9WajwFCf\n",
            "tiKHJYO\n",
            "f8cTG2G0\n",
            "dFw1FzV\n",
            "5sElSD\n",
            "QfS6F5\n",
            "JLFMgDQy\n",
            "nsqsN3M\n",
            "QDU4VP\n",
            "KUDWH6W\n",
            "IO8GzN\n",
            "y2UYIj6B\n",
            "fMguIO\n",
            "PD87gX\n",
            "69GcnQ6E\n",
            "lRyMa9U\n",
            "F6AE3aT\n",
            "4I1wjR\n",
            "9SiekfbR\n",
            "GPResV8m\n",
            "vQiHiQ\n",
            "FgeCWraT\n",
            "PkRv8z\n",
            "jdFtfQ\n",
            "rxNOsl\n",
            "2KGp5Fkg\n",
            "IQ7adP1g\n",
            "AOWaTt\n",
            "rigTGIL\n",
            "vA9afA\n",
            "nG4eQQ5\n",
            "jJp0Fz\n",
            "rdDAImu\n",
            "lyrEVI3f\n",
            "vfni293P\n",
            "wc9jXNEW\n",
            "thoVmxV0\n",
            "513sMxiC\n",
            "Y811hZZ\n",
            "9ohmMyBP\n",
            "IctDpP\n",
            "GWuYgkKK\n",
            "VoxtCBJ\n",
            "YzrX51\n",
            "hqdMe6\n",
            "rf6Cif7f\n",
            "M5PlrvHv\n",
            "4myLB4p\n",
            "z2LjChsl\n"
          ]
        }
      ]
    },
    {
      "cell_type": "markdown",
      "source": [
        "ii. Print all prime numbers between 600 and 800"
      ],
      "metadata": {
        "id": "ePq0uIOjSn8_"
      }
    },
    {
      "cell_type": "code",
      "source": [
        "def is_prime(n):\n",
        "  for i in range(2,n//2+1):\n",
        "    if n%i==0:\n",
        "      return False\n",
        "  return True\n",
        "\n",
        "for j in range(600,800):\n",
        "  if is_prime(j):\n",
        "    print(j)"
      ],
      "metadata": {
        "colab": {
          "base_uri": "https://localhost:8080/"
        },
        "id": "6o07dzNxEROm",
        "outputId": "92c9ffe0-95a6-4bb0-98fc-22a48f191fee"
      },
      "execution_count": null,
      "outputs": [
        {
          "output_type": "stream",
          "name": "stdout",
          "text": [
            "601\n",
            "607\n",
            "613\n",
            "617\n",
            "619\n",
            "631\n",
            "641\n",
            "643\n",
            "647\n",
            "653\n",
            "659\n",
            "661\n",
            "673\n",
            "677\n",
            "683\n",
            "691\n",
            "701\n",
            "709\n",
            "719\n",
            "727\n",
            "733\n",
            "739\n",
            "743\n",
            "751\n",
            "757\n",
            "761\n",
            "769\n",
            "773\n",
            "787\n",
            "797\n"
          ]
        }
      ]
    },
    {
      "cell_type": "markdown",
      "source": [
        "iii. Print all numbers between 100 and 1000 that are divisible that are divisible by 7 and 9"
      ],
      "metadata": {
        "id": "G7EYVkOCSv-C"
      }
    },
    {
      "cell_type": "code",
      "source": [
        "for i in range(100,1000):\n",
        "  if i%7==0 and i%9==0:\n",
        "    print(i)"
      ],
      "metadata": {
        "colab": {
          "base_uri": "https://localhost:8080/"
        },
        "id": "F3kLzZ8WEzqh",
        "outputId": "28447eee-9e45-46dc-e3b8-683b542733f6"
      },
      "execution_count": null,
      "outputs": [
        {
          "output_type": "stream",
          "name": "stdout",
          "text": [
            "126\n",
            "189\n",
            "252\n",
            "315\n",
            "378\n",
            "441\n",
            "504\n",
            "567\n",
            "630\n",
            "693\n",
            "756\n",
            "819\n",
            "882\n",
            "945\n"
          ]
        }
      ]
    },
    {
      "cell_type": "markdown",
      "source": [
        "**Q5.** Create two lists of 10 random numbers between 10 and 30"
      ],
      "metadata": {
        "id": "N8SoZXf6qblr"
      }
    },
    {
      "cell_type": "code",
      "source": [
        "#5\n",
        "import random\n",
        "list1=[random.randint(10,30) for _ in range(10)]\n",
        "list2=[random.randint(10,30) for _ in range(10)]\n",
        "print(\"List 1:\",list1)\n",
        "print(\"List 2:\",list2)"
      ],
      "metadata": {
        "colab": {
          "base_uri": "https://localhost:8080/"
        },
        "id": "o1lyJ5uDZRaN",
        "outputId": "43612888-76f9-4384-96ea-19c96aafdf39"
      },
      "execution_count": null,
      "outputs": [
        {
          "output_type": "stream",
          "name": "stdout",
          "text": [
            "List 1: [18, 18, 18, 30, 16, 23, 22, 30, 28, 12]\n",
            "List 2: [17, 20, 12, 30, 20, 12, 19, 13, 11, 12]\n"
          ]
        }
      ]
    },
    {
      "cell_type": "markdown",
      "source": [
        "i. Common numbers in two lists"
      ],
      "metadata": {
        "id": "fNTTBHTHTP6T"
      }
    },
    {
      "cell_type": "code",
      "source": [
        "common_numbers=[]\n",
        "for num in list1:\n",
        "  if num in list2 and num not in common_numbers:\n",
        "    common_numbers.append(num)\n",
        "print(\"Common numbers in two list --> \",common_numbers)"
      ],
      "metadata": {
        "colab": {
          "base_uri": "https://localhost:8080/"
        },
        "id": "MkCjiNCbcntb",
        "outputId": "0b6dd344-97e2-4102-c86e-63a12ef3a2d1"
      },
      "execution_count": null,
      "outputs": [
        {
          "output_type": "stream",
          "name": "stdout",
          "text": [
            "Common numbers in two list -->  [10, 12]\n"
          ]
        }
      ]
    },
    {
      "cell_type": "markdown",
      "source": [
        "ii. Unique numbers in both lists"
      ],
      "metadata": {
        "id": "WBMKXXYQTURe"
      }
    },
    {
      "cell_type": "code",
      "source": [
        "unique_numbers=[num for num in list1 if num not in list2]+[num for num in list2 if num not in list1]\n",
        "print(\"Unique numbers in two lists --> \",unique_numbers)"
      ],
      "metadata": {
        "colab": {
          "base_uri": "https://localhost:8080/"
        },
        "id": "hqnexchwoHpi",
        "outputId": "f3836085-eb7c-4137-c6ad-a5793d6cb0cc"
      },
      "execution_count": null,
      "outputs": [
        {
          "output_type": "stream",
          "name": "stdout",
          "text": [
            "Unique numbers in two lists -->  [27, 28, 24, 28, 22, 18, 28, 13, 14, 15, 17, 15, 26, 30, 23, 17]\n"
          ]
        }
      ]
    },
    {
      "cell_type": "markdown",
      "source": [
        "iii. Minimum in both lists"
      ],
      "metadata": {
        "id": "uW1HF1E9TYX5"
      }
    },
    {
      "cell_type": "code",
      "source": [
        "mini1=min(list1)\n",
        "mini2=min(list2)\n",
        "print(\"Minimum number in list1 --> \",mini1)\n",
        "print(\"Minimum number in list2 --> \",mini2)"
      ],
      "metadata": {
        "colab": {
          "base_uri": "https://localhost:8080/"
        },
        "id": "0PMgcgNEUqvG",
        "outputId": "12b2b75d-d421-4e5d-b5f7-ac33895e9e34"
      },
      "execution_count": null,
      "outputs": [
        {
          "output_type": "stream",
          "name": "stdout",
          "text": [
            "Minimum number in list1 -->  11\n",
            "Minimum number in list2 -->  10\n"
          ]
        }
      ]
    },
    {
      "cell_type": "markdown",
      "source": [
        "iv. Maximum in both lists"
      ],
      "metadata": {
        "id": "YgLLKPKnTdBF"
      }
    },
    {
      "cell_type": "code",
      "source": [
        "max1=max(list1)\n",
        "max2=max(list2)\n",
        "print(\"Maximum number in list1 --> \",max1)\n",
        "print(\"Maximum number in list2 --> \",max2)"
      ],
      "metadata": {
        "colab": {
          "base_uri": "https://localhost:8080/"
        },
        "id": "nEA8UnKvWhm8",
        "outputId": "ed394984-621e-45f0-f5ff-17af9b8fc894"
      },
      "execution_count": null,
      "outputs": [
        {
          "output_type": "stream",
          "name": "stdout",
          "text": [
            "Maximum number in list1 -->  30\n",
            "Maximum number in list2 -->  30\n"
          ]
        }
      ]
    },
    {
      "cell_type": "markdown",
      "source": [
        "v. Sum of both lists"
      ],
      "metadata": {
        "id": "QERtd6lNThiC"
      }
    },
    {
      "cell_type": "code",
      "source": [
        "totalsum=sum(list1+list2)\n",
        "print(\"sum of both list's elements --> \",totalsum)"
      ],
      "metadata": {
        "colab": {
          "base_uri": "https://localhost:8080/"
        },
        "id": "12Xx7LNEXaQE",
        "outputId": "6a2baa36-5c21-42ba-cf79-210968205344"
      },
      "execution_count": null,
      "outputs": [
        {
          "output_type": "stream",
          "name": "stdout",
          "text": [
            "sum of both list's elements -->  381\n"
          ]
        }
      ]
    },
    {
      "cell_type": "markdown",
      "source": [
        "**Q6.** Create a list of 100 random numbers between 100 and 900"
      ],
      "metadata": {
        "id": "UvKMsUMBqc4f"
      }
    },
    {
      "cell_type": "code",
      "source": [
        "#6\n",
        "import random as r\n",
        "l=[r.randint(100,900) for i in range(101)]\n",
        "print(l)"
      ],
      "metadata": {
        "colab": {
          "base_uri": "https://localhost:8080/"
        },
        "id": "ve92PjWodlDD",
        "outputId": "f3a3b338-5d52-43fb-f9de-8f66293c304f"
      },
      "execution_count": 1,
      "outputs": [
        {
          "output_type": "stream",
          "name": "stdout",
          "text": [
            "[464, 646, 734, 312, 248, 775, 462, 496, 654, 444, 726, 616, 676, 110, 287, 520, 426, 608, 663, 781, 353, 765, 592, 620, 306, 441, 173, 609, 155, 402, 225, 342, 833, 172, 244, 740, 598, 879, 234, 718, 626, 704, 387, 330, 744, 712, 490, 235, 281, 152, 550, 545, 790, 331, 687, 165, 800, 156, 138, 385, 769, 419, 279, 704, 817, 854, 716, 186, 488, 243, 530, 122, 785, 218, 478, 474, 430, 795, 244, 318, 817, 765, 160, 577, 793, 293, 896, 314, 801, 236, 264, 731, 105, 219, 665, 492, 550, 147, 332, 698, 404]\n"
          ]
        }
      ]
    },
    {
      "cell_type": "markdown",
      "source": [
        "Count and print:\n",
        "i. All odd numbers"
      ],
      "metadata": {
        "id": "9RQBkazPTyuq"
      }
    },
    {
      "cell_type": "code",
      "source": [
        "odd=[]\n",
        "for i in l:\n",
        "  if i%2!=0:\n",
        "    odd.append(i)\n",
        "print(\"List of odd numbers from original list:\",odd)\n",
        "print(\"Number of odd numbers --> \",len(odd))"
      ],
      "metadata": {
        "colab": {
          "base_uri": "https://localhost:8080/"
        },
        "id": "w4umyoQggB0j",
        "outputId": "db586917-9872-4b66-ae2d-142a62092d4f"
      },
      "execution_count": 2,
      "outputs": [
        {
          "output_type": "stream",
          "name": "stdout",
          "text": [
            "List of odd numbers from original list: [775, 287, 663, 781, 353, 765, 441, 173, 609, 155, 225, 833, 879, 387, 235, 281, 545, 331, 687, 165, 385, 769, 419, 279, 817, 243, 785, 795, 817, 765, 577, 793, 293, 801, 731, 105, 219, 665, 147]\n",
            "Number of odd numbers -->  39\n"
          ]
        }
      ]
    },
    {
      "cell_type": "markdown",
      "source": [
        "ii. All even numbers"
      ],
      "metadata": {
        "id": "sucDVGBqT5p6"
      }
    },
    {
      "cell_type": "code",
      "source": [
        "even=[]\n",
        "for i in l:\n",
        "  if i%2==0:\n",
        "    even.append(i)\n",
        "print(\"List of even numbers from original list: \",even)\n",
        "print(\"Number of even numbers --> \",len(even))"
      ],
      "metadata": {
        "colab": {
          "base_uri": "https://localhost:8080/"
        },
        "id": "0pY5a6DLjn8h",
        "outputId": "8af24b81-521e-4f1e-e659-8876ad150523"
      },
      "execution_count": 3,
      "outputs": [
        {
          "output_type": "stream",
          "name": "stdout",
          "text": [
            "List of even numbers from original list:  [464, 646, 734, 312, 248, 462, 496, 654, 444, 726, 616, 676, 110, 520, 426, 608, 592, 620, 306, 402, 342, 172, 244, 740, 598, 234, 718, 626, 704, 330, 744, 712, 490, 152, 550, 790, 800, 156, 138, 704, 854, 716, 186, 488, 530, 122, 218, 478, 474, 430, 244, 318, 160, 896, 314, 236, 264, 492, 550, 332, 698, 404]\n",
            "Number of even numbers -->  62\n"
          ]
        }
      ]
    },
    {
      "cell_type": "markdown",
      "source": [
        "iii. All prime numbers"
      ],
      "metadata": {
        "id": "pRB2TXuhT-bV"
      }
    },
    {
      "cell_type": "code",
      "source": [
        "def isprime(n):\n",
        "  for i in range(2,n//2+1):\n",
        "    if n%i==0:\n",
        "      return False\n",
        "  return True\n",
        "\n",
        "prime=[]\n",
        "for i in l:\n",
        "  if isprime(i):\n",
        "    prime.append(i)\n",
        "print(\"List of prime numbers from original list: \",prime)\n",
        "print(\"Number of prime numbers --> \",len(prime))\n"
      ],
      "metadata": {
        "colab": {
          "base_uri": "https://localhost:8080/"
        },
        "id": "KQ2K6CLFkATM",
        "outputId": "bb9606cf-11ae-4a50-ca8c-d2aa8504d47c"
      },
      "execution_count": 4,
      "outputs": [
        {
          "output_type": "stream",
          "name": "stdout",
          "text": [
            "List of prime numbers from original list:  [353, 173, 281, 331, 769, 419, 577, 293]\n",
            "Number of prime numbers -->  8\n"
          ]
        }
      ]
    },
    {
      "cell_type": "markdown",
      "source": [
        "**Q7.** D={1:\"One\",2:\"Two\",3:\"Three\",4:\"Four\",5:\"Five\"}\n",
        "\n"
      ],
      "metadata": {
        "id": "B4BoZtZXqebJ"
      }
    },
    {
      "cell_type": "code",
      "source": [
        "#7\n",
        "D={1:\"One\",2:\"Two\",3:\"Three\",4:\"Four\",5:\"Five\"}\n",
        "print(\"Keys --> \",list(D.keys()),\"   Values --> \",list(D.values()))\n"
      ],
      "metadata": {
        "colab": {
          "base_uri": "https://localhost:8080/"
        },
        "id": "m-UgWcdslrF8",
        "outputId": "83ff9f15-e56d-4d98-ac73-bbed92fc9a5b"
      },
      "execution_count": null,
      "outputs": [
        {
          "output_type": "stream",
          "name": "stdout",
          "text": [
            "Keys -->  [1, 2, 3, 4, 5]    Values -->  ['One', 'Two', 'Three', 'Four', 'Five']\n"
          ]
        }
      ]
    },
    {
      "cell_type": "markdown",
      "source": [
        "Read all keys and values from dictionary and write to file in given below format.\n",
        "\n",
        "Key , Value"
      ],
      "metadata": {
        "id": "fAd9X6TuVgJg"
      }
    },
    {
      "cell_type": "code",
      "source": [
        "with open (\"dicttionary\",\"w\") as file:\n",
        "  for i in D:\n",
        "    file.write(\"Key \"+str(i)+\" has value --> \"+D[i]+\"\\n\")\n",
        "\n",
        "with open(\"dicttionary\",\"r\") as file:\n",
        "  print(file.read())\n",
        "\n"
      ],
      "metadata": {
        "colab": {
          "base_uri": "https://localhost:8080/"
        },
        "id": "YFxYlAy0nlhX",
        "outputId": "f44fb705-1971-4cd5-f94b-b153276994c6"
      },
      "execution_count": null,
      "outputs": [
        {
          "output_type": "stream",
          "name": "stdout",
          "text": [
            "Key 1 has value --> One\n",
            "Key 2 has value --> Two\n",
            "Key 3 has value --> Three\n",
            "Key 4 has value --> Four\n",
            "Key 5 has value --> Five\n",
            "\n"
          ]
        }
      ]
    },
    {
      "cell_type": "markdown",
      "source": [
        "**Q8.** L={\"One\",\"Two\",\"Three\",\"Four\",\"Five\"}\n",
        "\n",
        "Count length of each element from list and write to file in given below format\n",
        "\n",
        "one,3\n",
        "\n",
        "two,3\n",
        "\n",
        "four,4"
      ],
      "metadata": {
        "id": "_T6rugFcqfzT"
      }
    },
    {
      "cell_type": "code",
      "source": [
        "#8\n",
        "L={\"One\",\"Two\",\"Three\",\"Four\",\"Five\"}\n",
        "\n",
        "for i in L:\n",
        "  print(i ,\"  has \",len(i),\"charachters\")\n",
        "\n",
        "with open (\"counting\", 'w') as f:\n",
        "  for i in L:\n",
        "       f.write(i + \" , \" + str(len(i)) +'\\n')\n",
        "\n",
        "with open(\"counting\",'r' ) as f:\n",
        "  print(f.read())"
      ],
      "metadata": {
        "colab": {
          "base_uri": "https://localhost:8080/"
        },
        "id": "99hxJjmmorm6",
        "outputId": "3be5a78d-0a79-4f8c-97df-46cc8f639083"
      },
      "execution_count": 8,
      "outputs": [
        {
          "output_type": "stream",
          "name": "stdout",
          "text": [
            "Five   has  4 charachters\n",
            "Three   has  5 charachters\n",
            "Two   has  3 charachters\n",
            "Four   has  4 charachters\n",
            "One   has  3 charachters\n",
            "Five , 4\n",
            "Three , 5\n",
            "Two , 3\n",
            "Four , 4\n",
            "One , 3\n",
            "\n"
          ]
        }
      ]
    },
    {
      "cell_type": "markdown",
      "source": [
        "**Q9.** Write to file 100 random strings whose length 10 and 15"
      ],
      "metadata": {
        "id": "-5udhT_AqgpC"
      }
    },
    {
      "cell_type": "code",
      "source": [
        "#9\n",
        "import string as s\n",
        "with open(\"Random_words.txt\",\"w\") as file:\n",
        "  for i in range(100):\n",
        "    length=r.randint(10,15)\n",
        "    su=''.join(r.sample(s.ascii_letters + s.digits,length))\n",
        "    file.write(su+\"\\n\")\n",
        "\n",
        "with open(\"Random_words.txt\",\"r\") as file:\n",
        "  print(file.read())"
      ],
      "metadata": {
        "id": "HreoXAtopg8a",
        "colab": {
          "base_uri": "https://localhost:8080/"
        },
        "outputId": "7084e2e9-58ed-4137-96f0-6e7b93355752"
      },
      "execution_count": 10,
      "outputs": [
        {
          "output_type": "stream",
          "name": "stdout",
          "text": [
            "pkTcP1eXOJ9w\n",
            "037D6j4bAkZrEQF\n",
            "bvUGPCDO5mkI3\n",
            "io61kPsMDBj2\n",
            "wqvWZtkKpEaxor\n",
            "yOm2ljWdgP\n",
            "xE1ceGFmalXpjWf\n",
            "9XYpts0bof\n",
            "ctX48wKLeqOR\n",
            "wdopLaXVY26K\n",
            "6Xb9klSNUa\n",
            "9y0P6NZqTVdvf\n",
            "MyKJ3O9ieofR7s\n",
            "KHQ63uYSE9\n",
            "SemVzshd7ak\n",
            "nmzyWxO2vrNKCS\n",
            "DOMT2VUks91FXHz\n",
            "ymrMIvdihE38X\n",
            "miM9foTt0BrFJa\n",
            "lEgzkAwsK1eLO\n",
            "Fp6CIzqgTcxi\n",
            "DoK4Iyi0QalTOfb\n",
            "590K8UMOcWtLFg\n",
            "Y4PVSIhnps8W\n",
            "OwYRcbQo0pPi\n",
            "5m8pjcB3Rur\n",
            "4gMumIj68s\n",
            "jWGMAwkirEd\n",
            "nsDKkE0O2gZV\n",
            "QSHg0quEiVD\n",
            "tcsQKP5OGBki2xM\n",
            "aFNLAkptcZog\n",
            "9V80I4uHUd\n",
            "C6njQuDYi1Zr\n",
            "F4vXyBiVfEzN\n",
            "ENPQyn7kr5jZmx\n",
            "Wq4NifgnLjec\n",
            "yjdoiJM6ugY\n",
            "IoxRYE74O1fZC\n",
            "gPI3Mi5aS96tU\n",
            "ea82bFuyTVrfPA\n",
            "up0mns1jGt8Ck\n",
            "2hmptui3eV\n",
            "0K2Eu5j38zefD\n",
            "oIGltB81e5\n",
            "XdqikHjaQUBJO\n",
            "RXK2bQw0clf\n",
            "AaUvHCtuXx\n",
            "xu6TF1U7Afz0B\n",
            "gxH5NqrLeWO\n",
            "H4ZA6J9iRXBQjop\n",
            "XgdD8hHFJt\n",
            "cVTGOdX2mW4E9u\n",
            "XBQ1wrpjMLUh\n",
            "GgciohVKqP8yk1\n",
            "A1RQldGYjZ3zf\n",
            "QUqRj97XiLn3V\n",
            "Ug7qJRVktLXGjf\n",
            "FP8mOrAB2a\n",
            "BgH3cnRKzwE\n",
            "XhKteW7ALm\n",
            "71OKQUmJdR\n",
            "SKQpH4fzUtNr\n",
            "QuC43GzAMW\n",
            "oNLdmY8C9yR\n",
            "c1tPlB0qS9pmeu\n",
            "3GhWk1OTtyUc\n",
            "WXk28NIDjeFl70p\n",
            "sw2RWbEOXo7N8Q\n",
            "Lwg9exlCIB\n",
            "DMLQZfPqW3NX1I\n",
            "8ZsLk3JTIm\n",
            "qRMEZBwGkApO56K\n",
            "D6aXndfcrJL\n",
            "T9SoGpjDit\n",
            "I2vMcwrL04l\n",
            "HjyzwOpt3NXID\n",
            "zZ7yOJFQn9oDWS\n",
            "QbnxtBuDIR\n",
            "G6yiuIoBrKt2X\n",
            "HqWonsGbjA89LDd\n",
            "3sJr2QdGHW9Spy\n",
            "hAxDIYMPBmGV5\n",
            "GdVlNEOkDguQxv\n",
            "7yrS5EB4YbPIHf\n",
            "FVGJ0EA7lst\n",
            "tGxn49BuEcQN\n",
            "ewKhL2flHxmRXop\n",
            "jPNXdEtZBbyVM\n",
            "Jqfa4EzpS6r\n",
            "Mo7eRc4awGiQ\n",
            "hFa8xfKRtzYT5DW\n",
            "9VLCkPrHyWTmh\n",
            "BQmHDUX2yhY\n",
            "ovgTyfSVEx6bQMi\n",
            "vZ2eYqK9WO4il5\n",
            "dcR72UBplIwJu\n",
            "cE6oCshYr0iHm\n",
            "j3UF5TVOf7Y\n",
            "W8IK6ex9wVd1tFs\n",
            "\n"
          ]
        }
      ]
    },
    {
      "cell_type": "markdown",
      "source": [
        "**Q 10.** Write to file all prime numbers between 600 and 800"
      ],
      "metadata": {
        "id": "NkGJQGz6qhdU"
      }
    },
    {
      "cell_type": "code",
      "source": [
        "#10\n",
        "def is_prime(n):\n",
        "  for i in range(2,n//2+1):\n",
        "    if n%i==0:\n",
        "      return False\n",
        "  return True\n",
        "with open(\"Prime_numbers.txt\",\"w\") as file:\n",
        "  for i in range(600,800):\n",
        "    if is_prime(i):\n",
        "      file.write(str(i)+\"\\n\")\n",
        "with open(\"Prime_numbers.txt\",\"r\") as file:\n",
        "  print(file.read())"
      ],
      "metadata": {
        "colab": {
          "base_uri": "https://localhost:8080/"
        },
        "id": "KUgKn6A2yzM5",
        "outputId": "6e06bc3a-5d1c-4e11-c9d6-dcc7b412f936"
      },
      "execution_count": null,
      "outputs": [
        {
          "output_type": "stream",
          "name": "stdout",
          "text": [
            "601\n",
            "607\n",
            "613\n",
            "617\n",
            "619\n",
            "631\n",
            "641\n",
            "643\n",
            "647\n",
            "653\n",
            "659\n",
            "661\n",
            "673\n",
            "677\n",
            "683\n",
            "691\n",
            "701\n",
            "709\n",
            "719\n",
            "727\n",
            "733\n",
            "739\n",
            "743\n",
            "751\n",
            "757\n",
            "761\n",
            "769\n",
            "773\n",
            "787\n",
            "797\n",
            "\n"
          ]
        }
      ]
    },
    {
      "cell_type": "markdown",
      "source": [
        "**Q 11.** Calculate time taken by a program"
      ],
      "metadata": {
        "id": "whQbHP9iqimt"
      }
    },
    {
      "cell_type": "code",
      "source": [
        "#11\n",
        "import time\n",
        "start=time.time()\n",
        "a=10\n",
        "b=5\n",
        "c=a+b\n",
        "print(c)\n",
        "end=time.time()\n",
        "elapsed_time=end-start\n",
        "print(f\"Total time taken: {elapsed_time:.6f}seconds\")"
      ],
      "metadata": {
        "id": "weBI_7b85LFg",
        "colab": {
          "base_uri": "https://localhost:8080/"
        },
        "outputId": "585f23e7-7153-4d73-f78c-bcb550ba20d5"
      },
      "execution_count": null,
      "outputs": [
        {
          "output_type": "stream",
          "name": "stdout",
          "text": [
            "15\n",
            "Total time taken: 0.000551seconds\n"
          ]
        }
      ]
    },
    {
      "cell_type": "markdown",
      "source": [
        "Q12. Sort 5000,10000,15000,20000,25000 number of elements in a list . Calculate time taken and plot graph"
      ],
      "metadata": {
        "id": "ndSyuuYnqj1b"
      }
    },
    {
      "cell_type": "code",
      "source": [
        "#12\n",
        "import matplotlib.pyplot as plt\n",
        "\n",
        "def generate_list(size):\n",
        "  return [r.randint(1,10000)for i in range(size)]\n",
        "sizes=[5000,10000,15000,20000,25000]\n",
        "times=[]\n",
        "\n",
        "for size in sizes:\n",
        "  numbers=generate_list(size)\n",
        "  start_time=time.time()\n",
        "  numbers.sort()\n",
        "  end_time=time.time()\n",
        "  times.append(end_time-start_time)\n",
        "\n",
        "plt.plot(sizes,times,marker='o')\n",
        "plt.xlabel(\"List Size\")\n",
        "plt.ylabel(\"Sorting Time(seconds)\")\n",
        "plt.title(\"Sorting Time vs List Size\")\n",
        "plt.grid(True)\n",
        "plt.show()"
      ],
      "metadata": {
        "colab": {
          "base_uri": "https://localhost:8080/",
          "height": 472
        },
        "id": "oBTE8VGM_gDS",
        "outputId": "71b124b2-d865-4b4f-887b-9414d348dbd4"
      },
      "execution_count": null,
      "outputs": [
        {
          "output_type": "display_data",
          "data": {
            "text/plain": [
              "<Figure size 640x480 with 1 Axes>"
            ],
            "image/png": "[encoded data removed]"
          },
          "metadata": {}
        }
      ]
    },
    {
      "cell_type": "markdown",
      "source": [
        "**Q13**. Create a dictionary of student marks in five subjects and you have to find student having maximum and minimum average marks."
      ],
      "metadata": {
        "id": "29QXdJXbqlRA"
      }
    },
    {
      "cell_type": "code",
      "source": [
        "#13\n",
        "student={'A':[34,56,43,52,78],'B':[87,99,65,35,88],'C':[45,63,92,33,72],'D':[69,58,76,65,76],'E':[66,85,45,92,46]}\n",
        "max_avg=0\n",
        "min_avg=100\n",
        "topper=''\n",
        "learner=''\n",
        "for s,m in student.items():\n",
        "  avg=sum(m)/len(m)\n",
        "  if avg>max_avg:\n",
        "    max_avg=avg\n",
        "    topper=s\n",
        "  if avg<min_avg:\n",
        "    min_avg=avg\n",
        "    learner=s\n",
        "print(\"Topper --> \",topper,\"with average marks \",max_avg)\n",
        "print(\"Learner --> \",learner,\" with average marks \",min_avg)"
      ],
      "metadata": {
        "id": "P3aEtW4XDCDh",
        "colab": {
          "base_uri": "https://localhost:8080/"
        },
        "outputId": "462eacda-f0a4-4597-d499-97cdb5169cfc"
      },
      "execution_count": null,
      "outputs": [
        {
          "output_type": "stream",
          "name": "stdout",
          "text": [
            "Topper -->  B with average marks  74.8\n",
            "Learner -->  A  with average marks  52.6\n"
          ]
        }
      ]
    }
  ]
}